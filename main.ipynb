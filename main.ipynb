{
 "cells": [
  {
   "cell_type": "markdown",
   "id": "c3192b42",
   "metadata": {},
   "source": [
    "This notebook will guide you through the main building blocks of our proposal:  \n",
    "1. VQE state preparation + comparison with exact diagonalization results\n",
    "2. Training the QAEAnsatz\n",
    "3. Inference for the whole phase diagram"
   ]
  },
  {
   "cell_type": "code",
   "execution_count": null,
   "id": "94843128",
   "metadata": {},
   "outputs": [],
   "source": [
    "import time\n",
    "import itertools\n",
    "import numpy as np\n",
    "\n",
    "import qiskit\n",
    "from qiskit import *\n",
    "from qiskit.quantum_info import Statevector\n",
    "from qiskit.algorithms.optimizers import COBYLA, L_BFGS_B, SPSA\n",
    "from qiskit.opflow.state_fns import StateFn, CircuitStateFn\n",
    "from qiskit.providers.aer import StatevectorSimulator, AerSimulator\n",
    "\n",
    "from qiskit.opflow import CircuitSampler\n",
    "\n",
    "#from qiskit.ignis.mitigation.measurement import CompleteMeasFitter # you will need to pip install qiskit-ignis\n",
    "from qiskit.utils.mitigation import CompleteMeasFitter\n",
    "#from qiskit.ignis.mitigation.measurement import complete_meas_cal\n",
    "from qiskit.utils.mitigation import complete_meas_cal\n",
    "\n",
    "import matplotlib.pyplot as plt\n",
    "from matplotlib.ticker import MaxNLocator\n",
    "from matplotlib.colors import BoundaryNorm\n",
    "cmap = plt.get_cmap(\"plasma\") #'viridis'\n",
    "\n",
    "from modules.utils import *\n",
    "\n",
    "from qae import *\n",
    "\n",
    "import datetime"
   ]
  },
  {
   "cell_type": "code",
   "execution_count": null,
   "id": "b77ee2e8",
   "metadata": {},
   "outputs": [],
   "source": [
    "print(qiskit.__version__, np.__version__)"
   ]
  },
  {
   "cell_type": "code",
   "execution_count": null,
   "id": "e4c59766",
   "metadata": {},
   "outputs": [],
   "source": [
    "IBMQ.load_account() # this then automatically loads your saved account\n",
    "provider = IBMQ.get_provider(hub='ibm-q-research')"
   ]
  },
  {
   "cell_type": "code",
   "execution_count": null,
   "id": "35d96be2",
   "metadata": {},
   "outputs": [],
   "source": [
    "device = provider.backend.ibmq_rome # 6 bogota ; 4 rome"
   ]
  },
  {
   "cell_type": "code",
   "execution_count": null,
   "id": "b05fc8c5",
   "metadata": {},
   "outputs": [],
   "source": [
    "### Real device execution:\n",
    "#backend = device \n",
    "\n",
    "### Simulation with noise profile from real device\n",
    "backend = qiskit.providers.aer.AerSimulator.from_backend(device)\n",
    "\n",
    "### Simulation without noise\n",
    "#backend = qiskit.providers.aer.AerSimulator()"
   ]
  },
  {
   "cell_type": "code",
   "execution_count": null,
   "id": "df089ddf",
   "metadata": {},
   "outputs": [],
   "source": [
    "### Preliminaries\n",
    "L = 5\n",
    "num_trash = 2\n",
    "anti = -1 # 1 for ferromagnetic Ising model, -1 for antiferromagnet\n",
    "\n",
    "execute_VQE = False # whether or not you want to compute the VQE values; or load them\n",
    "\n",
    "# dataset to be loaded (optimal VQE parameters)\n",
    "# if execute_VQE is True this will overwrite the file\n",
    "filename = f'data/noisy_rome_simu_VQE_maxiter-500_Ising_L5_anti_-1_10x10'\n",
    "\n",
    "# Give a _unique_ name to this notebook execution, the results will be stored in the appropriate files with that name\n",
    "name = \"main\" "
   ]
  },
  {
   "cell_type": "markdown",
   "id": "7fa80cec",
   "metadata": {},
   "source": [
    "# VQE parameters\n",
    "The first step of the algorithm is to prepare ground states for a given Hamiltonian. In this notebook we calculate the transverse-longidituidnal field Ising model (TLFI)\n",
    "$$H=J\\sum_{i=1}^{L} Z_{i} Z_{i+1}-g_{x} \\sum_{i=1}^{L} X_{i}-g_{z} \\sum_{i=1}^{L} Z_{i}$$\n",
    "where $X_{i},Z_{i}$ are the Pauli matrices on site $i$, $J$ is the coupling strength, and $g_x, g_z$ are the transverse and longitudinal fields respectively. We fix $J=1$. In this case, the model has a quantum phase transition between an antiferromagnetic and paramagnetic phase, indicated by the order parameter $\\hat{S}=\\sum_{i=1^L} (-1)^i Z_i/L$ (staggered magnetization).  \n",
    "\n",
    "The model Hamiltonian `Qmag(L,anti)` is imported from `modules/utils.py`. We also perform exact diagonalization for comparison.\n",
    "\n",
    "Typically this part can take a while, both in noisy simulations or even more so on the real device, so we typically perform this part of the notebook separately over night. See `scripts/` for executable scipts on a cluster."
   ]
  },
  {
   "cell_type": "code",
   "execution_count": null,
   "id": "6ed959ab",
   "metadata": {},
   "outputs": [],
   "source": [
    "# May take some time. Ideally you would run this separately over night.\n",
    "if execute_VQE:\n",
    "    \n",
    "    coupling_map = device.configuration().coupling_map\n",
    "    noise_model = qiskit.providers.aer.noise.NoiseModel.from_backend(device)\n",
    "    basis_gates = noise_model.basis_gates\n",
    "\n",
    "    #aqua_globals.random_seed = seed\n",
    "    qi = qiskit.utils.QuantumInstance(backend=backend, # , seed_simulator=seed, seed_transpiler=seed\n",
    "                             coupling_map=coupling_map,\n",
    "                             noise_model=noise_model, # comment out on real device execution\n",
    "                             measurement_error_mitigation_cls= CompleteMeasFitter, \n",
    "                             cals_matrix_refresh_period=30  #How often to refresh the calibration matrix in measurement mitigation. in minutes\n",
    "                                     )\n",
    "    \n",
    "    maxiter = 60 # per optimization; on the real device more than 60 is unrealistic due to large overhead\n",
    "    logspace_size = 10\n",
    "    gx_vals = np.logspace(-2,2,logspace_size)\n",
    "    gz_vals = np.logspace(-2,2,logspace_size)\n",
    "    \n",
    "    rotation_blocks = \"ry\"\n",
    "    entanglement_blocks = \"cz\"\n",
    "    entanglement = \"sca\"\n",
    "    reps = 1\n",
    "\n",
    "    ansatz_config = dict(rotation_blocks = rotation_blocks, entanglement_blocks = entanglement_blocks, reps = reps, entanglement = entanglement)\n",
    "\n",
    "    ansatz = qiskit.circuit.library.TwoLocal(L,rotation_blocks=\"ry\", entanglement_blocks=entanglement_blocks, entanglement=entanglement, reps=reps)\n",
    "    #ansatz.draw(\"mpl\")\n",
    "    ansatz = qiskit.transpile(ansatz, backend)\n",
    "    #ansatz.draw(\"mpl\")\n",
    "\n",
    "    counts = []\n",
    "    values = []\n",
    "\n",
    "    optimizer = SPSA(maxiter=maxiter) #,learning_rate=0.3, perturbation=0.1; setting that speeds things up sometimes\n",
    "\n",
    "    def store_intermediate_result(eval_count, parameters, mean, std):\n",
    "        counts.append(eval_count)\n",
    "        values.append(mean)\n",
    "\n",
    "    opt_params = []\n",
    "    gx_list = []\n",
    "    gz_list = []\n",
    "    countss, valuess = [], []\n",
    "    Qmag, Qen, Smag, Sen = [],[],[],[]\n",
    "\n",
    "\n",
    "    for j,gx in enumerate(gx_vals):\n",
    "        for i,gz in enumerate(gz_vals):\n",
    "            t0 = datetime.datetime.now()\n",
    "            counts = []\n",
    "            values = []\n",
    "\n",
    "            vqe = VQE(ansatz=ansatz, optimizer=optimizer, callback=store_intermediate_result, quantum_instance=qi)\n",
    "\n",
    "            H = QHIsing(L,anti,np.float32(gx),np.float32(gz))\n",
    "            result = vqe.compute_minimum_eigenvalue(H, aux_operators = [QMag(L,anti)]) #ED with Qiskit VQE\n",
    "            Qen.append(result.eigenvalue)\n",
    "            Qmag.append(result.aux_operator_eigenvalues[0][0])\n",
    "            countss.append(counts)\n",
    "            valuess.append(values)\n",
    "\n",
    "            ED_state, ED_E, ham = ising_groundstate(L, anti, np.float32(gx), np.float32(gz))\n",
    "            Sen.append(ED_E)\n",
    "            Smag.append(ED_state.T.conj()@Mag(L,anti)@ED_state)\n",
    "            print(Qen[-1])\n",
    "            print(Qmag[-1])\n",
    "\n",
    "            print(f\"ED energy: {Sen[-1]} ;; VQE energy: {Qen[-1]} ;; diff {Sen[-1] - Qen[-1]}\")\n",
    "            print(f\"ED mag: {Smag[-1]} ;; VQE mag: {Qmag[-1]} ;; diff {Smag[-1] - Qmag[-1]}\")\n",
    "\n",
    "\n",
    "            gx_list.append(gx)\n",
    "            gz_list.append(gz)\n",
    "            opt_params.append(sort_params(result.optimal_parameters))\n",
    "            print(f\"{j+1} / {len(gx_vals)}, gx = {gx:.2f}, gz = {gz:.2f}, time : {(datetime.datetime.now() - t0)}\")\n",
    "\n",
    "            np.savez(filename, gx_list=gx_list, gz_list=gz_list, opt_params=opt_params, Qmag=Qmag, Qen=Qen, Sen=Sen, Smag=Smag, ansatz_config=ansatz_config)"
   ]
  },
  {
   "cell_type": "code",
   "execution_count": null,
   "id": "3431961c",
   "metadata": {},
   "outputs": [],
   "source": [
    "if not execute_VQE:\n",
    "    VQE_params = np.load(filename + \".npz\", allow_pickle=True)\n",
    "    \n",
    "    ansatz_config = VQE_params[\"ansatz_config\"].item()\n",
    "    \n",
    "    gx_list = VQE_params['gx_list']\n",
    "    gz_list = VQE_params['gz_list']\n",
    "    opt_params = VQE_params['opt_params']\n",
    "\n",
    "    gx_vals = np.unique(gx_list)\n",
    "    gz_vals = np.unique(gz_list)\n",
    "\n",
    "    mag = QMag(L,anti) #magnetization operator (Qiskit)\n",
    "    Smag = Mag(L,anti) #magnetization operator (numpy)\n",
    "    # the ~ is the adjoint, but also it turns the is_measurement attribute to True\n",
    "    ~StateFn(mag)\n",
    "    # state is technically a circuit, that prepares the ground state via VQE circuit\n",
    "    #state.draw() # uncomment to see, but is very long\n",
    "\n",
    "    Qen= VQE_params[\"Qen\"]; Sen= VQE_params[\"Sen\"] #energies\n",
    "    Qmags=VQE_params[\"Qmag\"]; Smags=VQE_params[\"Smag\"] #magnetizations"
   ]
  },
  {
   "cell_type": "markdown",
   "id": "e07e92b5",
   "metadata": {},
   "source": [
    "The following Ansatz was chosen after some empirical testing, finding a trade-off between expressibility and noise robustness. We saw that too many entangling gates diminished the results, which is why we reduced the number of layers. Further, since long-range entangling gates are transpiled to many consecutive local entangling gates on a linear real device like `ibmq_rome` or `ibmq_bogota`, we also tried to avoid them as best as possible."
   ]
  },
  {
   "cell_type": "code",
   "execution_count": null,
   "id": "4f1b24c3",
   "metadata": {},
   "outputs": [],
   "source": [
    "ansatz = qiskit.circuit.library.TwoLocal(L,**ansatz_config)\n",
    "ansatz.draw(\"mpl\")"
   ]
  },
  {
   "cell_type": "code",
   "execution_count": null,
   "id": "0f4f7bce",
   "metadata": {},
   "outputs": [],
   "source": [
    "# what the device would actually execute:\n",
    "ansatz = qiskit.transpile(ansatz, backend)\n",
    "ansatz.draw(\"mpl\")"
   ]
  },
  {
   "cell_type": "markdown",
   "id": "03cc36dd",
   "metadata": {},
   "source": [
    "## ED comparison"
   ]
  },
  {
   "cell_type": "code",
   "execution_count": null,
   "id": "70958a99",
   "metadata": {
    "tags": []
   },
   "outputs": [],
   "source": [
    "fig,ax = plt.subplots(figsize=(8,5))\n",
    "cmap = plt.get_cmap(\"plasma\") #'viridis'\n",
    "im = ax.pcolormesh(gz_vals, gx_vals, abs(Smags).reshape(len(gz_vals),len(gx_vals)), cmap=cmap, shading=\"auto\")\n",
    "cbar = fig.colorbar(im, ax=ax)\n",
    "cbar.ax.tick_params(labelsize=20)\n",
    "plt.xscale(\"log\")\n",
    "plt.yscale(\"log\")\n",
    "ax.set_title(\"Magnetization ED L %.0f anti %.0f\" %(L, anti),fontsize=20)\n",
    "ax.set_xlabel(r\"$g_z$\",fontsize=24)\n",
    "ax.set_ylabel(r\"$g_x$\",fontsize=24)\n",
    "ax.tick_params(labelsize=20)\n",
    "\n",
    "fig,ax = plt.subplots(figsize=(8,5))\n",
    "cmap = plt.get_cmap(\"plasma\") #'viridis'\n",
    "im = ax.pcolormesh(gz_vals, gx_vals, abs(Qmags).reshape(len(gz_vals),len(gx_vals)), cmap=cmap, shading=\"auto\")\n",
    "cbar = fig.colorbar(im, ax=ax)\n",
    "cbar.ax.tick_params(labelsize=20)\n",
    "plt.xscale(\"log\")\n",
    "plt.yscale(\"log\")\n",
    "ax.set_title(\"Magnetization VQE L %.0f anti %.0f\" %(L, anti),fontsize=20)\n",
    "ax.set_xlabel(r\"$g_z$\",fontsize=24)\n",
    "ax.set_ylabel(r\"$g_x$\",fontsize=24)\n",
    "ax.tick_params(labelsize=20)"
   ]
  },
  {
   "cell_type": "code",
   "execution_count": null,
   "id": "f395ad5f",
   "metadata": {},
   "outputs": [],
   "source": [
    "fig,ax = plt.subplots(figsize=(8,5))\n",
    "cmap = plt.get_cmap(\"plasma\") #'viridis'\n",
    "Sshaped = np.float64(Sen.reshape(len(gz_vals),len(gx_vals)))\n",
    "Qshaped = np.float64(Qen.reshape(len(gz_vals),len(gx_vals)))\n",
    "im = ax.pcolormesh(gz_vals, gx_vals, (Sshaped - Qshaped)/Sshaped , cmap=cmap)\n",
    "cbar = fig.colorbar(im, ax=ax)\n",
    "cbar.ax.tick_params(labelsize=20)\n",
    "plt.xscale(\"log\")\n",
    "plt.yscale(\"log\")\n",
    "ax.set_title(\"Rel. difference in energy L %.0f anti %.0f\" %(L, anti),fontsize=20)\n",
    "ax.set_xlabel(r\"$g_z$\",fontsize=24)\n",
    "ax.set_ylabel(r\"$g_x$\",fontsize=24)\n",
    "ax.tick_params(labelsize=20)"
   ]
  },
  {
   "cell_type": "markdown",
   "id": "82d078f4",
   "metadata": {},
   "source": [
    "# Quantum Anomaly Detection\n",
    "Now that we have our ground states prepared, we can use them as the input to the Quantum Anomaly Syndrome. This is composed of the following circuit. The goal is to disentangle the trash qubits, in this case with indices `trash_qubits_idxs = [1,2]`, from the rest of the system. Again, we try to be minimalistic with the entangling gates while maintaining high expressibility for the task. We therefore put the trash qubits at the center of the physical device (linear chain) and connect only the trash qubits among themselves and the remaining qubits.\n",
    "\n",
    "The Ansatz circuit for our anomaly syndrome is based on a quantum autoencoder, which we implemented in `qae.py` with the classes `QAEAnsatz()` and `QAE`."
   ]
  },
  {
   "cell_type": "code",
   "execution_count": null,
   "id": "91b75607",
   "metadata": {},
   "outputs": [],
   "source": [
    "# Using our QAEAnsatz class (described in qae.py)\n",
    "circ = QAEAnsatz(num_qubits = L, num_trash_qubits= num_trash, trash_qubits_idxs = [1,2], measure_trash=True)"
   ]
  },
  {
   "cell_type": "code",
   "execution_count": null,
   "id": "75491958",
   "metadata": {},
   "outputs": [],
   "source": [
    "circ.draw(\"mpl\")"
   ]
  },
  {
   "cell_type": "code",
   "execution_count": null,
   "id": "b6239945",
   "metadata": {},
   "outputs": [],
   "source": [
    "# an example with assigned parameters\n",
    "circ = circ.assign_parameters(np.arange(L*2+2))\n",
    "circ.draw(\"mpl\")"
   ]
  },
  {
   "cell_type": "markdown",
   "id": "87bcdd1c",
   "metadata": {},
   "source": [
    "Initialize state with VQE circuit _or_ state vector"
   ]
  },
  {
   "cell_type": "code",
   "execution_count": null,
   "id": "b2b44669",
   "metadata": {},
   "outputs": [],
   "source": [
    "def prepare_circuit(thetas, L=6, num_trash=2, init_state=None, measurement=True, vqe=True):\n",
    "    QAE_circ = QAEAnsatz(num_qubits = L, num_trash_qubits= num_trash, measure_trash=measurement).assign_parameters(thetas)\n",
    "    if vqe:\n",
    "        VQE_circ = ansatz.assign_parameters(init_state)\n",
    "        fullcirc = VQE_circ + QAE_circ\n",
    "    else:\n",
    "        fullcirc = QAE_circ.initialize(init_state, qreg)\n",
    "    return fullcirc"
   ]
  },
  {
   "cell_type": "code",
   "execution_count": null,
   "id": "cca50bc9",
   "metadata": {},
   "outputs": [],
   "source": [
    "# example of the full circuit with random parameters assigned\n",
    "fullcirc = prepare_circuit(np.random.rand(L*2+2),L,num_trash, vqe=True, init_state=opt_params[0])\n",
    "fullcirc.draw(\"mpl\")"
   ]
  },
  {
   "cell_type": "markdown",
   "id": "cfb5a2fb",
   "metadata": {},
   "source": [
    "\n",
    "Circuit is executed on simulator and measurement outcomes on the trash qubits are stored"
   ]
  },
  {
   "cell_type": "code",
   "execution_count": null,
   "id": "3856777e",
   "metadata": {},
   "outputs": [],
   "source": [
    "### Circuit calibration (for measurement error mitigation in noisy simulations and real device execution)\n",
    "def calibrate_circuit(L, nums_trash=[1,2],shots=1000):\n",
    "    # outputs a CompleteMeasFitter object for alter use\n",
    "    num_trash = len(nums_trash)\n",
    "    qreg = QuantumRegister(L, 'q')\n",
    "    # obtain calibration matrix\n",
    "    qubit_list = [i for i in nums_trash] # only need to calibrate the trash qubits\n",
    "    circlabel = f'mcal_{datetime.datetime.now()}'\n",
    "    meas_calibs, state_labels = complete_meas_cal(qubit_list=qubit_list, qr=qreg, circlabel=circlabel)\n",
    "    cal_job = backend.run(meas_calibs, shots=shots) #, noise_model=noise_model)\n",
    "    cal_results = cal_job.result()\n",
    "    meas_fitter = CompleteMeasFitter(cal_results, state_labels, circlabel=circlabel)\n",
    "    print(circlabel, meas_fitter.cal_matrix)\n",
    "    return meas_fitter"
   ]
  },
  {
   "cell_type": "code",
   "execution_count": null,
   "id": "7217ad28",
   "metadata": {},
   "outputs": [],
   "source": [
    "### Execute circuit\n",
    "def run_circuit(thetas, L, num_trash, init_state, vqe=True, shots=100, meas_fitter = None):\n",
    "    circ = prepare_circuit(thetas, L, num_trash, init_state, vqe=vqe)\n",
    "    tcirc = qiskit.transpile(circ, backend)\n",
    "    # Execute the circuit \n",
    "    job_sim = backend.run(tcirc, shots=shots) # , seed_simulator=123, seed_transpiler=234 fix seed to make it reproducible\n",
    "    result = job_sim.result()\n",
    "    # Results without mitigation\n",
    "    counts = result.get_counts()\n",
    "    if meas_fitter != None:\n",
    "        # Get the filter object\n",
    "        meas_filter = meas_fitter.filter\n",
    "\n",
    "        # Results with mitigation\n",
    "        mitigated_results = meas_filter.apply(result)\n",
    "        counts = mitigated_results.get_counts(0)\n",
    "    return counts"
   ]
  },
  {
   "cell_type": "code",
   "execution_count": null,
   "id": "efbfc1c1",
   "metadata": {},
   "outputs": [],
   "source": [
    "phis = opt_params # the parameters for the VQE initialization"
   ]
  },
  {
   "cell_type": "code",
   "execution_count": null,
   "id": "8855df7e",
   "metadata": {},
   "outputs": [],
   "source": [
    "### Optimize circuit\n",
    "def cost_function_single(thetas, L, num_trash, p, shots=1000, vqe=True, param_encoding=False, x=0, meas_fitter=None):\n",
    "    \"\"\" Optimizes circuit \"\"\"\n",
    "    if vqe:\n",
    "        init_state = phis[p]\n",
    "    else:\n",
    "        J, gx, gz = p\n",
    "        init_state, _ = ising_groundstate(L, J, gx, gz)\n",
    "    if param_encoding: thetas = feature_encoding(thetas, x) \n",
    "    out = run_circuit(thetas, L, num_trash, init_state, vqe=vqe, shots=shots, meas_fitter=meas_fitter)\n",
    "    cost = out.get('11', 0)*2 + out.get('01', 0) + out.get('10', 0)\n",
    "    return cost/shots\n",
    "\n",
    "def cost_function(thetas, L, num_trash, ising_params, shots=1000, vqe=True, param_encoding=False, x=0, meas_fitter=None):\n",
    "    \"\"\" Optimizes circuit \"\"\"\n",
    "    cost = 0.\n",
    "    n_samples = len(ising_params)\n",
    "    for i, p in enumerate(ising_params):\n",
    "        if param_encoding: \n",
    "            cost += cost_function_single(thetas, L, num_trash, p, shots, vqe, param_encoding, x[i], meas_fitter=meas_fitter)\n",
    "        else:\n",
    "            cost += cost_function_single(thetas, L, num_trash, p, shots, vqe, param_encoding, meas_fitter=meas_fitter)\n",
    "    return cost/n_samples\n",
    "\n",
    "def optimize(ising_params, L=6, num_trash=2, thetas=None, shots=1000, max_iter=400, vqe=True, param_encoding=False, x=0, pick_optimizer = None,\n",
    "            meas_fitter=None):\n",
    "    if thetas is None:\n",
    "        n_params = (2*L+2)*2 if param_encoding else (2*L+2)\n",
    "        thetas = np.random.uniform(0, 2*np.pi, n_params) # initial parameters without feature encoding\n",
    "        \n",
    "    print(\"Initial cost: {:.3f}\".format(cost_function(thetas, L, num_trash, ising_params, shots, vqe, param_encoding, x)))\n",
    "    \n",
    "    counts, values, accepted = [], [], []\n",
    "    def store_intermediate_result(eval_count, parameters, mean, std, ac):\n",
    "        # counts.append(eval_count)\n",
    "        values.append(mean)\n",
    "        accepted.append(ac)\n",
    "\n",
    "    # Initialize optimizer\n",
    "    if pick_optimizer == \"cobyla\":\n",
    "        optimizer = COBYLA(maxiter=max_iter, tol=0.0001)\n",
    "    if pick_optimizer == \"adam\" or pick_optimizer == \"ADAM\":\n",
    "        optimizer = qiskit.algorithms.optimizers.ADAM(maxiter=max_iter)\n",
    "    # optimizer = L_BFGS_B(maxfun=300, maxiter=max_iter)#, factr=10, iprint=- 1, epsilon=1e-08)\n",
    "    if pick_optimizer == \"spsa\" or pick_optimizer == None:\n",
    "        optimizer = SPSA(maxiter=max_iter,\n",
    "                         #blocking=True,\n",
    "                         callback=store_intermediate_result,\n",
    "                         learning_rate=0.3,\n",
    "                         perturbation=0.1\n",
    "                         ) # recommended from qiskit (first iteraction takes quite long)\n",
    "                           # to reduce time figure out optimal learning rate and perturbation in advance\n",
    "\n",
    "    start_time = time.time()\n",
    "    ret = optimizer.optimize(\n",
    "                            num_vars=len(thetas),\n",
    "                            objective_function=(lambda thetas: cost_function(thetas, L, num_trash, ising_params, shots, vqe, param_encoding, x, meas_fitter=meas_fitter)),\n",
    "                            initial_point=thetas\n",
    "                            )\n",
    "    print(\"Time: {:.5f} sec\".format(time.time()-start_time))\n",
    "    print(ret)\n",
    "    return ret[0], values, accepted\n",
    "\n"
   ]
  },
  {
   "cell_type": "code",
   "execution_count": null,
   "id": "a63b62d5",
   "metadata": {},
   "outputs": [],
   "source": [
    "def run_inference(thetas, shots=1000, L=5, meas_fitter=None):\n",
    "    points = 50\n",
    "    J = -1.0\n",
    "    x,y = np.meshgrid(gx_vals, gz_vals)\n",
    "    cost = np.zeros((len(gx_vals) * len(gz_vals)))\n",
    "    Smags = np.zeros((len(gx_vals) * len(gz_vals)))\n",
    "    shots = 1000\n",
    "    for i,p in enumerate(list(zip(gxs, gzs))):\n",
    "        t0 = datetime.datetime.now()\n",
    "        cost[i] = cost_function_single(thetas, L, num_trash, i, shots=shots, meas_fitter=meas_fitter)\n",
    "        if not i%verbose:\n",
    "            print(f\"{i+1} / {len(opt_params)}, gx = {gx:.2f}, gz = {gz:.2f}, time : {verbose*(datetime.datetime.now() - t0)}\")\n",
    "\n",
    "    cost = cost.reshape((len(gx_vals), len(gz_vals)))\n",
    "    return cost\n",
    "\n",
    "cmap = plt.get_cmap(\"plasma\")\n",
    "def plot_result(cost, params):\n",
    "    fig,axs = plt.subplots(ncols=2,figsize=(15,5))\n",
    "    nbins=100\n",
    "    ax = axs[0]\n",
    "    im = ax.pcolormesh(x, y, cost, cmap=cmap, shading=\"auto\")\n",
    "    cbar = fig.colorbar(im, ax=ax)\n",
    "    cbar.ax.tick_params(labelsize=20)\n",
    "    ax.set_xscale(\"log\")\n",
    "    ax.set_yscale(\"log\")\n",
    "    ax.set_title(f\"Loss\",fontsize=20)\n",
    "    ax.set_xlabel(r\"$g_z$\",fontsize=24)\n",
    "    ax.set_ylabel(r\"$g_x$\",fontsize=24)\n",
    "    ax.tick_params(labelsize=20)\n",
    "    for p in params:\n",
    "        gz = gz_list[p]\n",
    "        gx = gx_list[p]\n",
    "        ax.plot(gz,gx,\"o\",label=\"training\",color=\"cyan\")\n",
    "    \n",
    "    ax = axs[1]\n",
    "    im = ax.pcolormesh(gz_vals, gx_vals, Qmags.real.reshape(len(gz_vals),len(gx_vals)), cmap=cmap, shading=\"auto\")\n",
    "    cbar = fig.colorbar(im, ax=ax)\n",
    "    cbar.ax.tick_params(labelsize=20)\n",
    "    ax.set_xscale(\"log\")\n",
    "    ax.set_yscale(\"log\")\n",
    "    ax.set_title(\"Magnetization VQE L %.0f anti %.0f\" %(L, anti),fontsize=20)\n",
    "    ax.set_xlabel(r\"$g_z$\",fontsize=24)\n",
    "    ax.set_ylabel(r\"$g_x$\",fontsize=24)\n",
    "    ax.tick_params(labelsize=20)"
   ]
  },
  {
   "cell_type": "markdown",
   "id": "8f691a52",
   "metadata": {},
   "source": [
    "## Error mitigation\n",
    "We perform measurement error mitigation by calibrating the device for predefined states and their expected vs. measured clicks. The calibration matrix can be computed via `calibrate_circuit()`. We then perform the opitmization of the circuit with and without measurement error mitigation and compare the results."
   ]
  },
  {
   "cell_type": "code",
   "execution_count": null,
   "id": "cfcb234a",
   "metadata": {},
   "outputs": [],
   "source": [
    "meas_fitter = calibrate_circuit(L, nums_trash=[1,2])"
   ]
  },
  {
   "cell_type": "code",
   "execution_count": null,
   "id": "ac5374d8",
   "metadata": {},
   "outputs": [],
   "source": [
    "# Training\n",
    "phys_params = [0] # train on antiferromagnetic state\n",
    "thetas_opt_mitigated, loss, accepted = optimize(phys_params, max_iter=120, L=5,meas_fitter=meas_fitter) #, pick_optimizer=\"adam\")\n",
    "plt.plot(loss)"
   ]
  },
  {
   "cell_type": "code",
   "execution_count": null,
   "id": "1e20b056",
   "metadata": {},
   "outputs": [],
   "source": [
    "# Training\n",
    "phys_params = [0]\n",
    "thetas_opt_raw, loss, accepted = optimize(phys_params, max_iter=120, L=5,meas_fitter=None) #, pick_optimizer=\"adam\")\n",
    "plt.plot(loss)"
   ]
  },
  {
   "cell_type": "code",
   "execution_count": null,
   "id": "9661154b",
   "metadata": {},
   "outputs": [],
   "source": [
    "#phi = opt_params[0]\n",
    "raw_counts = run_circuit(thetas_opt_raw, L, num_trash, phis[0], meas_fitter=None)\n",
    "mitigated_counts = run_circuit(thetas_opt_mitigated, L, num_trash, phis[0], meas_fitter=meas_fitter)"
   ]
  },
  {
   "cell_type": "code",
   "execution_count": null,
   "id": "feb8f622",
   "metadata": {},
   "outputs": [],
   "source": [
    "np.savez(\"data/\" + name + \"raw-vs-mitigated-counts\",raw_counts=raw_counts, mitigated_counts = mitigated_counts)"
   ]
  },
  {
   "cell_type": "markdown",
   "id": "a040bbbd",
   "metadata": {},
   "source": [
    "The goal of the optimization is to have a product state $|00\\rangle$ in the trash qubits. We therefore expect to measure mostly clicks in the $00$ component (this does NOT mean we have $|00\\rangle$ state). We see that with measurement error mitigation we can improve our results a bit so we keep it for the folloing calculations."
   ]
  },
  {
   "cell_type": "code",
   "execution_count": null,
   "id": "a7954df1",
   "metadata": {},
   "outputs": [],
   "source": [
    "from qiskit.tools.visualization import *\n",
    "temp = np.load(\"data/\" + name + \"raw-vs-mitigated-counts.npz\",allow_pickle=True)\n",
    "plot_histogram([temp[\"raw_counts\"].item(), temp[\"mitigated_counts\"].item()], legend=['raw', 'mitigated'])"
   ]
  },
  {
   "cell_type": "markdown",
   "id": "9523b31c",
   "metadata": {},
   "source": [
    "# Optimization and inference\n",
    "We now perform the full algorithm. The circuit is trained on one ground state, given by `phys_params`, which is a list of indices to pick from the prepared VQE parameters. After optimizing the circuit to yield $00$ cost in the trash qubits, we perform inference on all states we prepared via VQE and compare their cost. From this we can deduce the phase diagram."
   ]
  },
  {
   "cell_type": "code",
   "execution_count": null,
   "id": "de6861f7",
   "metadata": {},
   "outputs": [],
   "source": [
    "# Training\n",
    "phys_params = [0]\n",
    "thetas_opt, loss, accepted = optimize(phys_params, max_iter=60, L=5, meas_fitter=meas_fitter) #, pick_optimizer=\"adam\")\n",
    "plt.plot(loss)"
   ]
  },
  {
   "cell_type": "code",
   "execution_count": null,
   "id": "9fd44bcc",
   "metadata": {},
   "outputs": [],
   "source": [
    "# Inference; note that on the real device each inference points takes about ~30 seconds\n",
    "x,y = np.meshgrid(gx_vals, gz_vals)\n",
    "cost = np.zeros((len(gx_vals) * len(gz_vals)))\n",
    "shots = 1000\n",
    "for i,p in enumerate(list(zip(gx_list, gz_list))):\n",
    "    t0 = datetime.datetime.now()\n",
    "    cost[i] = cost_function_single(thetas_opt, L, num_trash, i, shots=shots, meas_fitter=meas_fitter) # np.random.uniform(0, 2*np.pi, 2*L+2) random parameters to check if training \"does\" something - result was: with random paremters just get noise, so yes, it \"does\" something\n",
    "    print(f\"{i} / {len(gx_list)} - execution time {datetime.datetime.now()-t0}\")\n",
    "cost = cost.reshape((len(gx_vals), len(gz_vals)))"
   ]
  },
  {
   "cell_type": "code",
   "execution_count": null,
   "id": "6c0e71d6",
   "metadata": {},
   "outputs": [],
   "source": [
    "np.save(\"data/\" + name + \"_thetas-loss-cost_run1\",cost)"
   ]
  },
  {
   "cell_type": "code",
   "execution_count": null,
   "id": "c98a688f",
   "metadata": {},
   "outputs": [],
   "source": [
    "plot_result(np.load(\"data/\" + name + \"_thetas-loss-cost_run1.npy\"),phys_params)"
   ]
  },
  {
   "cell_type": "code",
   "execution_count": null,
   "id": "943cfd8c",
   "metadata": {},
   "outputs": [],
   "source": []
  }
 ],
 "metadata": {
  "kernelspec": {
   "display_name": "Python 3 (ipykernel)",
   "language": "python",
   "name": "python3"
  },
  "language_info": {
   "codemirror_mode": {
    "name": "ipython",
    "version": 3
   },
   "file_extension": ".py",
   "mimetype": "text/x-python",
   "name": "python",
   "nbconvert_exporter": "python",
   "pygments_lexer": "ipython3",
   "version": "3.10.9"
  }
 },
 "nbformat": 4,
 "nbformat_minor": 5
}
